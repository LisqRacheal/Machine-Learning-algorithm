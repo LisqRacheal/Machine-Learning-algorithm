{
 "cells": [
  {
   "cell_type": "code",
   "execution_count": 1,
   "metadata": {
    "collapsed": true
   },
   "outputs": [],
   "source": [
    "# PS6 - CE264\n",
    "# GSI: Mustapha Harb, Mengqiao Yu, Andrew Campbell\n",
    "\n",
    "# importing the requried libraries\n",
    "from collections import OrderedDict    # For recording the model specification \n",
    "\n",
    "import pandas as pd                    # For file input/output\n",
    "import numpy as np                     # For vectorized math operations\n",
    "\n",
    "import pylogit as pl                   # For MNL model estimation and\n",
    "                                       # conversion from wide to long format\n",
    "    \n",
    "%matplotlib inline\n",
    "\n",
    "# reading the data file \n",
    "data_wide  = pd.read_csv(\"data01.csv\",sep=\",\")"
   ]
  },
  {
   "cell_type": "markdown",
   "metadata": {},
   "source": [
    "# Problem 1: MNL Evaluation"
   ]
  },
  {
   "cell_type": "markdown",
   "metadata": {},
   "source": [
    "## Build the MNL specifications to predict mode choice "
   ]
  },
  {
   "cell_type": "code",
   "execution_count": 2,
   "metadata": {
    "collapsed": true
   },
   "outputs": [],
   "source": [
    "# converting the data from wide to long format\n",
    "\n",
    "# Create the list of individual specific variables\n",
    "ind_variables = data_wide.columns.tolist()[:2] + [\"weights\"]\n",
    "\n",
    "# Specify the variables that vary across individuals and some or all alternatives\n",
    "# The keys are the column names that will be used in the long format dataframe.\n",
    "# The values are dictionaries whose key-value pairs are the alternative id and\n",
    "# the column name of the corresponding column that encodes that variable for\n",
    "# the given alternative. Examples below.\n",
    "alt_varying_variables = {u'travel_time': dict([(1, 'tt_da'),\n",
    "                                               (2, 'tt_sr'),\n",
    "                                               (3, 'tt_walk'),\n",
    "                                               (4, 'tt_bike'),\n",
    "                                               (5, 'tt_wt'),\n",
    "                                               (6, 'tt_dt')]),\n",
    "                          u'distance_car': dict([(1, 'dist_car'),\n",
    "                                                (2, 'dist_car')]),\n",
    "                          u'travel_cost': dict([(1, 'cost_da'),\n",
    "                                                (2, 'cost_sr'),\n",
    "                                                (5, 'cost_wt'),\n",
    "                                                (6, 'cost_dt')]),\n",
    "                          u'access_time': dict([(5, 'accTime_wt'),\n",
    "                                                (6, 'accTime_dt')]),\n",
    "                          u'egress_time': dict([(5, 'egrTime_wt'),\n",
    "                                                (6, 'egrTime_dt')]),\n",
    "                          u'initial_wait': dict([(5, 'iWait_wt'),\n",
    "                                                 (6, 'iWait_dt')]),\n",
    "                          u'transfer_wait': dict([(5, 'xWait_wt'),\n",
    "                                                  (6, 'xWait_dt')]),\n",
    "                          u'access_distance_dt': dict([(6, \"accDist_dt\")])}\n",
    "\n",
    "# Specify the availability variables\n",
    "# Note that the keys of the dictionary are the alternative id's.\n",
    "# The values are the columns denoting the availability for the\n",
    "# given mode in the dataset.\n",
    "\n",
    "\n",
    "availability_variables = {1: 'avail_da',\n",
    "                          2: 'avail_sr', \n",
    "                          3: 'avail_walk',\n",
    "                          4: 'avail_bike',\n",
    "                          5: 'avail_wt',\n",
    "                          6: 'avail_dt'}\n",
    "\n",
    "##########\n",
    "# Determine the columns for: alternative ids, the observation ids and the choice\n",
    "##########\n",
    "# The 'custom_alt_id' is the name of a column to be created in the long-format data\n",
    "# It will identify the alternative associated with each row.\n",
    "custom_alt_id = \"mode_id\"\n",
    "\n",
    "# Create a custom id column that ignores the fact that this is a \n",
    "# panel/repeated-observations dataset. Note the +1 ensures the id's start at one.\n",
    "obs_id_column = \"obsID\"\n",
    "\n",
    "# Create a variable recording the choice column\n",
    "choice_column = \"choice\""
   ]
  },
  {
   "cell_type": "code",
   "execution_count": 3,
   "metadata": {
    "collapsed": true
   },
   "outputs": [],
   "source": [
    "# Perform the conversion to long-format\n",
    "data_long = pl.convert_wide_to_long(data_wide, \n",
    "                                           ind_variables, \n",
    "                                           alt_varying_variables, \n",
    "                                           availability_variables, \n",
    "                                           obs_id_column, \n",
    "                                           choice_column,\n",
    "                                           new_alt_id_name=custom_alt_id)"
   ]
  },
  {
   "cell_type": "code",
   "execution_count": 4,
   "metadata": {},
   "outputs": [
    {
     "name": "stderr",
     "output_type": "stream",
     "text": [
      "C:\\Users\\lisiq\\Anaconda2\\lib\\site-packages\\pandas\\core\\computation\\expressions.py:183: UserWarning: evaluating in Python space because the '*' operator is not supported by numexpr for the bool dtype, use '&' instead\n",
      "  unsupported[op_str]))\n"
     ]
    }
   ],
   "source": [
    "##########\n",
    "# Create scaled variables so the estimated coefficients are of similar magnitudes\n",
    "##########\n",
    "# Scale the travel time column by 60 to convert raw units (minutes) to hours\n",
    "data_long[\"travel_time_hrs\"] = data_long[\"travel_time\"] / 60.0\n",
    "\n",
    "# Scale the access by 60 to convert raw units (minutes) to hours\n",
    "data_long[\"access_time_hrs\"] = data_long[\"access_time\"] / 60.0\n",
    "\n",
    "# for drive to transit let us combine travel time and access time\n",
    "data_long[\"travel_time_access_time_hrs\"] = data_long[\"travel_time_hrs\"] + data_long[\"access_time_hrs\"]\n",
    "\n",
    "#Scale the egress time by 60\n",
    "data_long[\"egress_time_hrs\"] = data_long[\"egress_time\"] / 60.0\n",
    "\n",
    "# combining access and egress time which we want to use for the walk to transit alternative\n",
    "data_long[\"acess_egress_hrs\"] = data_long[\"access_time_hrs\"] + data_long[\"egress_time_hrs\"]\n",
    "\n",
    "# scaling the initial wait by 60\n",
    "data_long[\"initial_wait_hrs\"] = data_long[\"initial_wait\"] / 60.0\n",
    "\n",
    "# scaling the transfer wait by 60\n",
    "data_long[\"transfer_wait_hrs\"]  = data_long[\"transfer_wait\"] / 60.0\n",
    "\n",
    "# combining transfer wait and initial wait to be used for walk to transit and bike to transit\n",
    "data_long[\"initial_transfer_wait_hrs\"] = data_long[\"initial_wait_hrs\"] + data_long[\"transfer_wait_hrs\"]\n",
    "\n",
    "\n",
    "# creating non-linear transformations for the cost variable\n",
    "cutOff1 = 2\n",
    "cutOff2 = 7\n",
    "\n",
    "\n",
    "data_long[\"cost_cat_one\"] = (data_long[\"travel_cost\"] <= cutOff1)*data_long[\"travel_cost\"] + (data_long[\"travel_cost\"] > cutOff1)*cutOff1\n",
    "\n",
    "data_long[\"cost_cat_two\"] = (data_long[\"travel_cost\"] > cutOff1)*(data_long[\"travel_cost\"] <= cutOff2)*(data_long[\"travel_cost\"] - cutOff1) + (data_long[\"travel_cost\"] > cutOff2)* (cutOff2 - cutOff1)\n",
    "\n",
    "data_long[\"cost_cat_three\"] = (data_long[\"travel_cost\"] > cutOff2)*(data_long[\"travel_cost\"] - cutOff2)\n",
    "\n",
    "\n",
    "\n",
    "# specifying the utility equations\n",
    "\n",
    "# NOTE: - Specification and variable names must be ordered dictionaries.\n",
    "#       - Keys should be variables within the long format dataframe.\n",
    "#         The sole exception to this is the \"intercept\" key.\n",
    "#       - For the specification dictionary, the values should be lists\n",
    "#         of integers or or lists of lists of integers. Within a list, \n",
    "#         or within the inner-most list, the integers should be the \n",
    "#         alternative ID's of the alternative whose utility specification \n",
    "#         the explanatory variable is entering. Lists of lists denote \n",
    "#         alternatives that will share a common coefficient for the variable\n",
    "#         in question.\n",
    "\n",
    "basic_specification = OrderedDict()\n",
    "basic_names = OrderedDict()\n",
    "\n",
    "\n",
    "basic_specification[\"intercept\"] = [ 2, 3, 4, 5, 6]\n",
    "basic_names[\"intercept\"] = ['ASC SR',\n",
    "                            'ASC Walk', 'ASC Bike', 'ASC WT', 'ASC DT']\n",
    "\n",
    "basic_specification[\"travel_time_hrs\"] = [[1, 2, 5], 4, 3]\n",
    "basic_names[\"travel_time_hrs\"] = ['In-Vehicle Travel Time, units:hrs (DA, SR, WT)',\n",
    "                                  'Bike Time, units:hrs (Bike)',\n",
    "                                  'Walk Time, units:hrs (Walk)']\n",
    "\n",
    "basic_specification[\"travel_time_access_time_hrs\"] = [6]\n",
    "basic_names[\"travel_time_access_time_hrs\"] = [\"In-Vehicle Travel Time, units:hrs, (DT)\"]\n",
    "\n",
    "basic_specification[\"acess_egress_hrs\"] = [5]\n",
    "basic_names[\"acess_egress_hrs\"] = [\"Walk Time, units:hrs, (WT)\"]\n",
    "\n",
    "basic_specification[\"egress_time_hrs\"] = [6]\n",
    "basic_names[\"egress_time_hrs\"] = [\"Walk Time, units:hrs, (DT)\"]\n",
    "\n",
    "basic_specification[\"initial_transfer_wait_hrs\"] = [[5, 6]]\n",
    "basic_names[\"initial_transfer_wait_hrs\"] = [\"Waiting Time, units:hrs, (WT and DT)\"]\n",
    "\n",
    "\n",
    "basic_specification[\"cost_cat_one\"] = [[1, 2, 5,6]]\n",
    "basic_names[\"cost_cat_one\"] = ['Cost: Under $2']\n",
    "\n",
    "basic_specification[\"cost_cat_two\"] = [[1, 2, 5,6]]\n",
    "basic_names[\"cost_cat_two\"] = ['Cost: (2 - 7)$']\n",
    "\n",
    "basic_specification[\"cost_cat_three\"] = [[1, 2, 5,6]]\n",
    "basic_names[\"cost_cat_three\"] = ['Cost: Above $7']\n",
    "\n"
   ]
  },
  {
   "cell_type": "markdown",
   "metadata": {},
   "source": [
    "## 1.a - Split into training and test data"
   ]
  },
  {
   "cell_type": "code",
   "execution_count": 5,
   "metadata": {
    "collapsed": true
   },
   "outputs": [],
   "source": [
    "### taking a sample of 10,000 observation from the BATS 2000 dataset \n",
    "# and split it into train and test sets\n",
    "train_size = 8000\n",
    "total_size = 10000\n",
    "\n",
    "# Suffle the data before sampling\n",
    "np.random.seed(1138)  \n",
    "shuffled = np.random.choice(data_long.obsID.unique()[0:total_size], total_size, replace=False)\n",
    "train_ids = shuffled[0:train_size]\n",
    "test_ids = shuffled[train_size:]\n",
    "\n",
    "new_data_train = data_long.loc[data_long[obs_id_column].isin(train_ids)].copy()\n",
    "new_data_test = data_long.loc[data_long[obs_id_column].isin(test_ids)].copy()"
   ]
  },
  {
   "cell_type": "code",
   "execution_count": 6,
   "metadata": {},
   "outputs": [
    {
     "name": "stdout",
     "output_type": "stream",
     "text": [
      "8000\n",
      "2000\n"
     ]
    }
   ],
   "source": [
    "print train_ids.size\n",
    "print test_ids.size"
   ]
  },
  {
   "cell_type": "markdown",
   "metadata": {},
   "source": [
    "### Estimate model and inspect results"
   ]
  },
  {
   "cell_type": "code",
   "execution_count": 7,
   "metadata": {},
   "outputs": [
    {
     "name": "stdout",
     "output_type": "stream",
     "text": [
      "Log-likelihood at zero: -10,256.1117\n",
      "Initial Log-likelihood: -10,256.1117\n"
     ]
    },
    {
     "name": "stderr",
     "output_type": "stream",
     "text": [
      "C:\\Users\\lisiq\\Anaconda2\\lib\\site-packages\\scipy\\optimize\\_minimize.py:385: RuntimeWarning: Method BFGS does not use Hessian information (hess).\n",
      "  RuntimeWarning)\n"
     ]
    },
    {
     "name": "stdout",
     "output_type": "stream",
     "text": [
      "Estimation Time for Point Estimation: 0.38 seconds.\n",
      "Final log-likelihood: -6,425.5538\n"
     ]
    }
   ],
   "source": [
    "# Estimate the multinomial logit model (MNL)\n",
    "data_mnl = pl.create_choice_model(data=new_data_train,\n",
    "                                  alt_id_col=custom_alt_id,\n",
    "                                  obs_id_col=obs_id_column,\n",
    "                                  choice_col=choice_column,\n",
    "                                  specification=basic_specification,\n",
    "                                  model_type=\"MNL\",\n",
    "                                  names=basic_names)\n",
    "\n",
    "# Specify the initial values and method for the optimization.\n",
    "data_mnl.fit_mle(np.zeros(15))"
   ]
  },
  {
   "cell_type": "code",
   "execution_count": 8,
   "metadata": {},
   "outputs": [
    {
     "data": {
      "text/html": [
       "<table class=\"simpletable\">\n",
       "<caption>Multinomial Logit Model Regression Results</caption>\n",
       "<tr>\n",
       "  <th>Dep. Variable:</th>         <td>choice</td>          <th>  No. Observations:  </th>    <td>8,000</td>   \n",
       "</tr>\n",
       "<tr>\n",
       "  <th>Model:</th>         <td>Multinomial Logit Model</td> <th>  Df Residuals:      </th>    <td>7,985</td>   \n",
       "</tr>\n",
       "<tr>\n",
       "  <th>Method:</th>                  <td>MLE</td>           <th>  Df Model:          </th>     <td>15</td>     \n",
       "</tr>\n",
       "<tr>\n",
       "  <th>Date:</th>             <td>Tue, 24 Apr 2018</td>     <th>  Pseudo R-squ.:     </th>    <td>0.373</td>   \n",
       "</tr>\n",
       "<tr>\n",
       "  <th>Time:</th>                 <td>17:00:49</td>         <th>  Pseudo R-bar-squ.: </th>    <td>0.372</td>   \n",
       "</tr>\n",
       "<tr>\n",
       "  <th>AIC:</th>                 <td>12,881.108</td>        <th>  Log-Likelihood:    </th> <td>-6,425.554</td> \n",
       "</tr>\n",
       "<tr>\n",
       "  <th>BIC:</th>                 <td>12,985.915</td>        <th>  LL-Null:           </th> <td>-10,256.112</td>\n",
       "</tr>\n",
       "</table>\n",
       "<table class=\"simpletable\">\n",
       "<tr>\n",
       "                         <td></td>                           <th>coef</th>     <th>std err</th>      <th>z</th>      <th>P>|z|</th>  <th>[0.025</th>    <th>0.975]</th>  \n",
       "</tr>\n",
       "<tr>\n",
       "  <th>ASC SR</th>                                         <td>   -2.1269</td> <td>    0.055</td> <td>  -38.520</td> <td> 0.000</td> <td>   -2.235</td> <td>   -2.019</td>\n",
       "</tr>\n",
       "<tr>\n",
       "  <th>ASC Walk</th>                                       <td>   -2.0496</td> <td>    0.203</td> <td>  -10.105</td> <td> 0.000</td> <td>   -2.447</td> <td>   -1.652</td>\n",
       "</tr>\n",
       "<tr>\n",
       "  <th>ASC Bike</th>                                       <td>   -2.8861</td> <td>    0.194</td> <td>  -14.913</td> <td> 0.000</td> <td>   -3.265</td> <td>   -2.507</td>\n",
       "</tr>\n",
       "<tr>\n",
       "  <th>ASC WT</th>                                         <td>    1.4843</td> <td>    0.176</td> <td>    8.415</td> <td> 0.000</td> <td>    1.139</td> <td>    1.830</td>\n",
       "</tr>\n",
       "<tr>\n",
       "  <th>ASC DT</th>                                         <td>   -0.7238</td> <td>    0.206</td> <td>   -3.505</td> <td> 0.000</td> <td>   -1.129</td> <td>   -0.319</td>\n",
       "</tr>\n",
       "<tr>\n",
       "  <th>In-Vehicle Travel Time, units:hrs (DA, SR, WT)</th> <td>   -1.9197</td> <td>    0.106</td> <td>  -18.086</td> <td> 0.000</td> <td>   -2.128</td> <td>   -1.712</td>\n",
       "</tr>\n",
       "<tr>\n",
       "  <th>Bike Time, units:hrs (Bike)</th>                    <td>   -6.2048</td> <td>    0.440</td> <td>  -14.095</td> <td> 0.000</td> <td>   -7.068</td> <td>   -5.342</td>\n",
       "</tr>\n",
       "<tr>\n",
       "  <th>Walk Time, units:hrs (Walk)</th>                    <td>   -1.4945</td> <td>    0.142</td> <td>  -10.528</td> <td> 0.000</td> <td>   -1.773</td> <td>   -1.216</td>\n",
       "</tr>\n",
       "<tr>\n",
       "  <th>In-Vehicle Travel Time, units:hrs, (DT)</th>        <td>   -1.2401</td> <td>    0.136</td> <td>   -9.136</td> <td> 0.000</td> <td>   -1.506</td> <td>   -0.974</td>\n",
       "</tr>\n",
       "<tr>\n",
       "  <th>Walk Time, units:hrs, (WT)</th>                     <td>   -2.9691</td> <td>    0.258</td> <td>  -11.500</td> <td> 0.000</td> <td>   -3.475</td> <td>   -2.463</td>\n",
       "</tr>\n",
       "<tr>\n",
       "  <th>Walk Time, units:hrs, (DT)</th>                     <td>   -5.5941</td> <td>    0.442</td> <td>  -12.664</td> <td> 0.000</td> <td>   -6.460</td> <td>   -4.728</td>\n",
       "</tr>\n",
       "<tr>\n",
       "  <th>Waiting Time, units:hrs, (WT and DT)</th>           <td>   -2.8204</td> <td>    0.257</td> <td>  -10.994</td> <td> 0.000</td> <td>   -3.323</td> <td>   -2.318</td>\n",
       "</tr>\n",
       "<tr>\n",
       "  <th>Cost: Under $2</th>                                 <td>   -1.3609</td> <td>    0.072</td> <td>  -18.843</td> <td> 0.000</td> <td>   -1.502</td> <td>   -1.219</td>\n",
       "</tr>\n",
       "<tr>\n",
       "  <th>Cost: (2 - 7)$</th>                                 <td>   -0.3295</td> <td>    0.021</td> <td>  -15.635</td> <td> 0.000</td> <td>   -0.371</td> <td>   -0.288</td>\n",
       "</tr>\n",
       "<tr>\n",
       "  <th>Cost: Above $7</th>                                 <td>   -0.0850</td> <td>    0.011</td> <td>   -7.709</td> <td> 0.000</td> <td>   -0.107</td> <td>   -0.063</td>\n",
       "</tr>\n",
       "</table>"
      ],
      "text/plain": [
       "<class 'statsmodels.iolib.summary.Summary'>\n",
       "\"\"\"\n",
       "                     Multinomial Logit Model Regression Results                    \n",
       "===================================================================================\n",
       "Dep. Variable:                      choice   No. Observations:                8,000\n",
       "Model:             Multinomial Logit Model   Df Residuals:                    7,985\n",
       "Method:                                MLE   Df Model:                           15\n",
       "Date:                     Tue, 24 Apr 2018   Pseudo R-squ.:                   0.373\n",
       "Time:                             17:00:49   Pseudo R-bar-squ.:               0.372\n",
       "AIC:                            12,881.108   Log-Likelihood:             -6,425.554\n",
       "BIC:                            12,985.915   LL-Null:                   -10,256.112\n",
       "==================================================================================================================\n",
       "                                                     coef    std err          z      P>|z|      [0.025      0.975]\n",
       "------------------------------------------------------------------------------------------------------------------\n",
       "ASC SR                                            -2.1269      0.055    -38.520      0.000      -2.235      -2.019\n",
       "ASC Walk                                          -2.0496      0.203    -10.105      0.000      -2.447      -1.652\n",
       "ASC Bike                                          -2.8861      0.194    -14.913      0.000      -3.265      -2.507\n",
       "ASC WT                                             1.4843      0.176      8.415      0.000       1.139       1.830\n",
       "ASC DT                                            -0.7238      0.206     -3.505      0.000      -1.129      -0.319\n",
       "In-Vehicle Travel Time, units:hrs (DA, SR, WT)    -1.9197      0.106    -18.086      0.000      -2.128      -1.712\n",
       "Bike Time, units:hrs (Bike)                       -6.2048      0.440    -14.095      0.000      -7.068      -5.342\n",
       "Walk Time, units:hrs (Walk)                       -1.4945      0.142    -10.528      0.000      -1.773      -1.216\n",
       "In-Vehicle Travel Time, units:hrs, (DT)           -1.2401      0.136     -9.136      0.000      -1.506      -0.974\n",
       "Walk Time, units:hrs, (WT)                        -2.9691      0.258    -11.500      0.000      -3.475      -2.463\n",
       "Walk Time, units:hrs, (DT)                        -5.5941      0.442    -12.664      0.000      -6.460      -4.728\n",
       "Waiting Time, units:hrs, (WT and DT)              -2.8204      0.257    -10.994      0.000      -3.323      -2.318\n",
       "Cost: Under $2                                    -1.3609      0.072    -18.843      0.000      -1.502      -1.219\n",
       "Cost: (2 - 7)$                                    -0.3295      0.021    -15.635      0.000      -0.371      -0.288\n",
       "Cost: Above $7                                    -0.0850      0.011     -7.709      0.000      -0.107      -0.063\n",
       "==================================================================================================================\n",
       "\"\"\""
      ]
     },
     "execution_count": 8,
     "metadata": {},
     "output_type": "execute_result"
    }
   ],
   "source": [
    "# Look at the estimation results\n",
    "data_mnl.get_statsmodels_summary()"
   ]
  },
  {
   "cell_type": "markdown",
   "metadata": {},
   "source": [
    "## 1.b - MNL Prediction"
   ]
  },
  {
   "cell_type": "markdown",
   "metadata": {},
   "source": [
    "#### Use the model estimated on the *training data* to predict the probability of each mode for the *test data* "
   ]
  },
  {
   "cell_type": "code",
   "execution_count": 9,
   "metadata": {
    "collapsed": true
   },
   "outputs": [],
   "source": [
    "prediction_array_test = data_mnl.predict(new_data_test)"
   ]
  },
  {
   "cell_type": "code",
   "execution_count": 10,
   "metadata": {
    "collapsed": true
   },
   "outputs": [],
   "source": [
    "#add the predicted probabilities to the test dataset\n",
    "new_data_test['predict'] = prediction_array_test"
   ]
  },
  {
   "cell_type": "markdown",
   "metadata": {},
   "source": [
    "### Calculate the accuracy of our MNL model for the *test data*"
   ]
  },
  {
   "cell_type": "code",
   "execution_count": 11,
   "metadata": {},
   "outputs": [
    {
     "name": "stdout",
     "output_type": "stream",
     "text": [
      "0.696\n"
     ]
    }
   ],
   "source": [
    "idx_test = new_data_test.groupby(u'obsID').apply(lambda x: np.argmax(x.predict))  # indices of predicted choices in the long data\n",
    "predicted_actual_test = new_data_test.loc[idx_test, :]['choice']  # actual outcomes for the predicted choices                                                                                                              # [0 = pred wrong, 1 = pred right]\n",
    "accuracy_test = np.true_divide(np.sum(predicted_actual_test), predicted_actual_test.size)\n",
    "print accuracy_test"
   ]
  },
  {
   "cell_type": "markdown",
   "metadata": {},
   "source": [
    "<font color=red> \n",
    "### The accuracy of the MNL model is 0.696"
   ]
  },
  {
   "cell_type": "markdown",
   "metadata": {},
   "source": [
    "## Evaluate the model across a range of training sizes"
   ]
  },
  {
   "cell_type": "markdown",
   "metadata": {},
   "source": [
    "### Training and test accuracy"
   ]
  },
  {
   "cell_type": "markdown",
   "metadata": {},
   "source": [
    "Make a plot comparing training and test accuracy for differenet training sample size. Keep the total_size fixed at 10,000, but range across the train_size. Make sure you clude some small training sample sizes. I recommend using some different intervals like: [100, 200, 500, 1000, 2000, 3000, ... 9000]\n",
    "\n",
    "Use the above code as template. We recommend using a for loop to iterate through all the train_size values instead of doing it manually."
   ]
  },
  {
   "cell_type": "markdown",
   "metadata": {},
   "source": [
    "### Helpful functions"
   ]
  },
  {
   "cell_type": "markdown",
   "metadata": {},
   "source": [
    "The following two functions should simplify things for your for loops."
   ]
  },
  {
   "cell_type": "code",
   "execution_count": 12,
   "metadata": {
    "collapsed": true
   },
   "outputs": [],
   "source": [
    "# Function to return shuffled training and data sets\n",
    "def split_data(data, train_size, test_size, seed=1138):\n",
    "    \"\"\"\n",
    "    Takes a long-form DataFrame and returns mutually exclusive training and test samples of specificed lengths. Input\n",
    "    data observation ids are shuffled to ensure random draws for samples.\n",
    "    \n",
    "    Keyword arguments:\n",
    "    data -- long format DataFrame\n",
    "    train_size -- integer size of training sample\n",
    "    test_size -- integer size of test sample\n",
    "    seed -- integer to set random seed for Numpy\n",
    "    \"\"\"\n",
    "    # Suffle the data before sampling\n",
    "    np.random.seed(seed)  \n",
    "    shuffled = np.random.choice(data.obsID.unique()[0:train_size+test_size], train_size+test_size, replace=False)\n",
    "    train_ids = shuffled[0:train_size]\n",
    "    test_ids = shuffled[train_size:]\n",
    "\n",
    "    train = data.loc[data[obs_id_column].isin(train_ids)].copy()\n",
    "    test = data.loc[data[obs_id_column].isin(test_ids)].copy()\n",
    "    return (train, test)"
   ]
  },
  {
   "cell_type": "code",
   "execution_count": 13,
   "metadata": {
    "collapsed": true
   },
   "outputs": [],
   "source": [
    "# Function to calculate the accuracy and log-likelihood using a trained MNL and data\n",
    "def eval_prediction(model, data):\n",
    "    \"\"\"\n",
    "    Function to calculate to evaluate model estimates. It returns a tuple of 1) accuracy, 2) log-likelihood\n",
    "    3) null log-likelihood  4) likelihood ratio index and 5) adjusted likelihood ratio index\n",
    "    \n",
    "    Keyword arguments:\n",
    "    model -- a trained PyLogit model\n",
    "    data -- (N x K) Pandas DataFrame long format. Same attributes as that used to train the model\n",
    "    \n",
    "    returns -- Tuple: (accuracy, log-likelihood, null log-likelihood, likelihood ratio index,\n",
    "    adjusted likelihood ratio index)\n",
    "    \"\"\"\n",
    "    ##\n",
    "    # Calculate the accuracy\n",
    "    ##\n",
    "    \n",
    "    # Predicted choice probabilities \n",
    "    prediction_array = model.predict(data)\n",
    "    data['predict'] = prediction_array\n",
    "    idx = data.groupby(u'obsID').apply(lambda x: np.argmax(x.predict))  # indices of predicted choices in the long data\n",
    "    predicted_actual = data.loc[idx, :]['choice']  # actual outcomes for the predicted choices\n",
    "    accuracy = np.true_divide(np.sum(predicted_actual), predicted_actual.size)\n",
    "    \n",
    "    ##\n",
    "    # Calculate the log-likelihood\n",
    "    ##\n",
    "    ll = np.dot(data.choice, np.log(prediction_array))\n",
    "    \n",
    "    ##\n",
    "    # Calculate the likelihood ratio index\n",
    "    ##\n",
    "\n",
    "    # calc the null predictions\n",
    "    null_prediction_array = data.groupby(u'obsID')[u'obsID'].transform(lambda x: np.true_divide(1, x.shape[0]))\n",
    "    ll_0 = np.dot(data.choice, np.log(null_prediction_array))\n",
    "    rho_2 = 1 - np.abs(np.true_divide(ll,ll_0))\n",
    "    \n",
    "    ##\n",
    "    # Calc adjusted likelihood ratio index\n",
    "    ##\n",
    "    rho_bar_2 = 1 - np.abs(np.true_divide(ll - model.params.shape[0], ll_0))\n",
    "    \n",
    "    return (accuracy, ll, ll_0, rho_2, rho_bar_2)"
   ]
  },
  {
   "cell_type": "markdown",
   "metadata": {
    "collapsed": true
   },
   "source": [
    "### Log-likelihood"
   ]
  },
  {
   "cell_type": "markdown",
   "metadata": {},
   "source": [
    "Plot the training and test log-likelihoods of the model for the same training sizes used above. Either add a second y-axis to the accuracy plot, or make a new plot."
   ]
  },
  {
   "cell_type": "code",
   "execution_count": null,
   "metadata": {
    "collapsed": true
   },
   "outputs": [],
   "source": [
    "eval_prediction(data_mnl, train)\n",
    "fig = figure()\n",
    "ax = fig.add_subplot(111)\n",
    "line = ax.plot(eval_prediction.accuracy,eval_prediction.ll,'-b',label='Accuracy of train data')\n",
    "plt.ylabel=(\"Accuracy of train data\")\n",
    "plt.xlabel=(\"ll of train data\")\n",
    "plt.legend()"
   ]
  },
  {
   "cell_type": "code",
   "execution_count": 36,
   "metadata": {},
   "outputs": [
    {
     "ename": "NameError",
     "evalue": "name 'test' is not defined",
     "output_type": "error",
     "traceback": [
      "\u001b[1;31m---------------------------------------------------------------------------\u001b[0m",
      "\u001b[1;31mNameError\u001b[0m                                 Traceback (most recent call last)",
      "\u001b[1;32m<ipython-input-36-8ff2544b9241>\u001b[0m in \u001b[0;36m<module>\u001b[1;34m()\u001b[0m\n\u001b[1;32m----> 1\u001b[1;33m \u001b[0meval_prediction\u001b[0m\u001b[1;33m(\u001b[0m\u001b[0mdata_mnl\u001b[0m\u001b[1;33m,\u001b[0m \u001b[0mtest\u001b[0m\u001b[1;33m)\u001b[0m\u001b[1;33m\u001b[0m\u001b[0m\n\u001b[0m\u001b[0;32m      2\u001b[0m \u001b[0mfig\u001b[0m \u001b[1;33m=\u001b[0m \u001b[0mfigure\u001b[0m\u001b[1;33m(\u001b[0m\u001b[1;33m)\u001b[0m\u001b[1;33m\u001b[0m\u001b[0m\n\u001b[0;32m      3\u001b[0m \u001b[0max\u001b[0m \u001b[1;33m=\u001b[0m \u001b[0mfig\u001b[0m\u001b[1;33m.\u001b[0m\u001b[0madd_subplot\u001b[0m\u001b[1;33m(\u001b[0m\u001b[1;36m111\u001b[0m\u001b[1;33m)\u001b[0m\u001b[1;33m\u001b[0m\u001b[0m\n\u001b[0;32m      4\u001b[0m \u001b[0mline\u001b[0m \u001b[1;33m=\u001b[0m \u001b[0max\u001b[0m\u001b[1;33m.\u001b[0m\u001b[0mplot\u001b[0m\u001b[1;33m(\u001b[0m\u001b[0meval_prediction\u001b[0m\u001b[1;33m.\u001b[0m\u001b[0maccuracy\u001b[0m\u001b[1;33m,\u001b[0m\u001b[0meval_prediction\u001b[0m\u001b[1;33m.\u001b[0m\u001b[0mll\u001b[0m\u001b[1;33m,\u001b[0m\u001b[1;34m'-g'\u001b[0m\u001b[1;33m,\u001b[0m\u001b[0mlabel\u001b[0m\u001b[1;33m=\u001b[0m\u001b[1;34m'Accuracy of test data'\u001b[0m\u001b[1;33m)\u001b[0m\u001b[1;33m\u001b[0m\u001b[0m\n\u001b[0;32m      5\u001b[0m \u001b[0mplt\u001b[0m\u001b[1;33m.\u001b[0m\u001b[0mylabel\u001b[0m\u001b[1;33m=\u001b[0m\u001b[1;33m(\u001b[0m\u001b[1;34m\"Accuracy of test data\"\u001b[0m\u001b[1;33m)\u001b[0m\u001b[1;33m\u001b[0m\u001b[0m\n",
      "\u001b[1;31mNameError\u001b[0m: name 'test' is not defined"
     ]
    }
   ],
   "source": [
    "eval_prediction(data_mnl, test)\n",
    "fig = figure()\n",
    "ax = fig.add_subplot(111)\n",
    "line = ax.plot(eval_prediction.accuracy,eval_prediction.ll,'-g',label='Accuracy of test data')\n",
    "plt.ylabel=(\"Accuracy of test data\")\n",
    "plt.xlabel=(\"ll of test data\")\n",
    "plt.legend()"
   ]
  },
  {
   "cell_type": "markdown",
   "metadata": {},
   "source": [
    "======================================================================================================================="
   ]
  },
  {
   "cell_type": "markdown",
   "metadata": {},
   "source": [
    "# Problem 2: Use ML algorithms we learned in class to predict mode choice"
   ]
  },
  {
   "cell_type": "markdown",
   "metadata": {},
   "source": [
    "<font color=blue>\n",
    "### The next 3 cells are just to fix the data to match the dataset used to train the MNL model"
   ]
  },
  {
   "cell_type": "code",
   "execution_count": 14,
   "metadata": {
    "collapsed": true
   },
   "outputs": [],
   "source": [
    "df = data_wide\n",
    "df = df[:9999]\n",
    "np.random.seed(100)"
   ]
  },
  {
   "cell_type": "code",
   "execution_count": 15,
   "metadata": {},
   "outputs": [
    {
     "name": "stderr",
     "output_type": "stream",
     "text": [
      "C:\\Users\\lisiq\\Anaconda2\\lib\\site-packages\\ipykernel_launcher.py:8: SettingWithCopyWarning: \n",
      "A value is trying to be set on a copy of a slice from a DataFrame.\n",
      "Try using .loc[row_indexer,col_indexer] = value instead\n",
      "\n",
      "See the caveats in the documentation: http://pandas.pydata.org/pandas-docs/stable/indexing.html#indexing-view-versus-copy\n",
      "  \n",
      "C:\\Users\\lisiq\\Anaconda2\\lib\\site-packages\\ipykernel_launcher.py:10: SettingWithCopyWarning: \n",
      "A value is trying to be set on a copy of a slice from a DataFrame.\n",
      "Try using .loc[row_indexer,col_indexer] = value instead\n",
      "\n",
      "See the caveats in the documentation: http://pandas.pydata.org/pandas-docs/stable/indexing.html#indexing-view-versus-copy\n",
      "  # Remove the CWD from sys.path while we load stuff.\n",
      "C:\\Users\\lisiq\\Anaconda2\\lib\\site-packages\\ipykernel_launcher.py:11: SettingWithCopyWarning: \n",
      "A value is trying to be set on a copy of a slice from a DataFrame.\n",
      "Try using .loc[row_indexer,col_indexer] = value instead\n",
      "\n",
      "See the caveats in the documentation: http://pandas.pydata.org/pandas-docs/stable/indexing.html#indexing-view-versus-copy\n",
      "  # This is added back by InteractiveShellApp.init_path()\n",
      "C:\\Users\\lisiq\\Anaconda2\\lib\\site-packages\\ipykernel_launcher.py:13: SettingWithCopyWarning: \n",
      "A value is trying to be set on a copy of a slice from a DataFrame.\n",
      "Try using .loc[row_indexer,col_indexer] = value instead\n",
      "\n",
      "See the caveats in the documentation: http://pandas.pydata.org/pandas-docs/stable/indexing.html#indexing-view-versus-copy\n",
      "  del sys.path[0]\n",
      "C:\\Users\\lisiq\\Anaconda2\\lib\\site-packages\\ipykernel_launcher.py:14: SettingWithCopyWarning: \n",
      "A value is trying to be set on a copy of a slice from a DataFrame.\n",
      "Try using .loc[row_indexer,col_indexer] = value instead\n",
      "\n",
      "See the caveats in the documentation: http://pandas.pydata.org/pandas-docs/stable/indexing.html#indexing-view-versus-copy\n",
      "  \n",
      "C:\\Users\\lisiq\\Anaconda2\\lib\\site-packages\\ipykernel_launcher.py:16: SettingWithCopyWarning: \n",
      "A value is trying to be set on a copy of a slice from a DataFrame.\n",
      "Try using .loc[row_indexer,col_indexer] = value instead\n",
      "\n",
      "See the caveats in the documentation: http://pandas.pydata.org/pandas-docs/stable/indexing.html#indexing-view-versus-copy\n",
      "  app.launch_new_instance()\n",
      "C:\\Users\\lisiq\\Anaconda2\\lib\\site-packages\\ipykernel_launcher.py:17: SettingWithCopyWarning: \n",
      "A value is trying to be set on a copy of a slice from a DataFrame.\n",
      "Try using .loc[row_indexer,col_indexer] = value instead\n",
      "\n",
      "See the caveats in the documentation: http://pandas.pydata.org/pandas-docs/stable/indexing.html#indexing-view-versus-copy\n",
      "C:\\Users\\lisiq\\Anaconda2\\lib\\site-packages\\ipykernel_launcher.py:23: SettingWithCopyWarning: \n",
      "A value is trying to be set on a copy of a slice from a DataFrame.\n",
      "Try using .loc[row_indexer,col_indexer] = value instead\n",
      "\n",
      "See the caveats in the documentation: http://pandas.pydata.org/pandas-docs/stable/indexing.html#indexing-view-versus-copy\n",
      "C:\\Users\\lisiq\\Anaconda2\\lib\\site-packages\\ipykernel_launcher.py:24: SettingWithCopyWarning: \n",
      "A value is trying to be set on a copy of a slice from a DataFrame.\n",
      "Try using .loc[row_indexer,col_indexer] = value instead\n",
      "\n",
      "See the caveats in the documentation: http://pandas.pydata.org/pandas-docs/stable/indexing.html#indexing-view-versus-copy\n",
      "C:\\Users\\lisiq\\Anaconda2\\lib\\site-packages\\ipykernel_launcher.py:25: SettingWithCopyWarning: \n",
      "A value is trying to be set on a copy of a slice from a DataFrame.\n",
      "Try using .loc[row_indexer,col_indexer] = value instead\n",
      "\n",
      "See the caveats in the documentation: http://pandas.pydata.org/pandas-docs/stable/indexing.html#indexing-view-versus-copy\n",
      "C:\\Users\\lisiq\\Anaconda2\\lib\\site-packages\\ipykernel_launcher.py:27: SettingWithCopyWarning: \n",
      "A value is trying to be set on a copy of a slice from a DataFrame.\n",
      "Try using .loc[row_indexer,col_indexer] = value instead\n",
      "\n",
      "See the caveats in the documentation: http://pandas.pydata.org/pandas-docs/stable/indexing.html#indexing-view-versus-copy\n",
      "C:\\Users\\lisiq\\Anaconda2\\lib\\site-packages\\ipykernel_launcher.py:28: SettingWithCopyWarning: \n",
      "A value is trying to be set on a copy of a slice from a DataFrame.\n",
      "Try using .loc[row_indexer,col_indexer] = value instead\n",
      "\n",
      "See the caveats in the documentation: http://pandas.pydata.org/pandas-docs/stable/indexing.html#indexing-view-versus-copy\n",
      "C:\\Users\\lisiq\\Anaconda2\\lib\\site-packages\\ipykernel_launcher.py:29: SettingWithCopyWarning: \n",
      "A value is trying to be set on a copy of a slice from a DataFrame.\n",
      "Try using .loc[row_indexer,col_indexer] = value instead\n",
      "\n",
      "See the caveats in the documentation: http://pandas.pydata.org/pandas-docs/stable/indexing.html#indexing-view-versus-copy\n",
      "C:\\Users\\lisiq\\Anaconda2\\lib\\site-packages\\ipykernel_launcher.py:31: SettingWithCopyWarning: \n",
      "A value is trying to be set on a copy of a slice from a DataFrame.\n",
      "Try using .loc[row_indexer,col_indexer] = value instead\n",
      "\n",
      "See the caveats in the documentation: http://pandas.pydata.org/pandas-docs/stable/indexing.html#indexing-view-versus-copy\n",
      "C:\\Users\\lisiq\\Anaconda2\\lib\\site-packages\\ipykernel_launcher.py:32: SettingWithCopyWarning: \n",
      "A value is trying to be set on a copy of a slice from a DataFrame.\n",
      "Try using .loc[row_indexer,col_indexer] = value instead\n",
      "\n",
      "See the caveats in the documentation: http://pandas.pydata.org/pandas-docs/stable/indexing.html#indexing-view-versus-copy\n",
      "C:\\Users\\lisiq\\Anaconda2\\lib\\site-packages\\ipykernel_launcher.py:33: SettingWithCopyWarning: \n",
      "A value is trying to be set on a copy of a slice from a DataFrame.\n",
      "Try using .loc[row_indexer,col_indexer] = value instead\n",
      "\n",
      "See the caveats in the documentation: http://pandas.pydata.org/pandas-docs/stable/indexing.html#indexing-view-versus-copy\n",
      "C:\\Users\\lisiq\\Anaconda2\\lib\\site-packages\\ipykernel_launcher.py:35: SettingWithCopyWarning: \n",
      "A value is trying to be set on a copy of a slice from a DataFrame.\n",
      "Try using .loc[row_indexer,col_indexer] = value instead\n",
      "\n",
      "See the caveats in the documentation: http://pandas.pydata.org/pandas-docs/stable/indexing.html#indexing-view-versus-copy\n",
      "C:\\Users\\lisiq\\Anaconda2\\lib\\site-packages\\ipykernel_launcher.py:36: SettingWithCopyWarning: \n",
      "A value is trying to be set on a copy of a slice from a DataFrame.\n",
      "Try using .loc[row_indexer,col_indexer] = value instead\n",
      "\n",
      "See the caveats in the documentation: http://pandas.pydata.org/pandas-docs/stable/indexing.html#indexing-view-versus-copy\n",
      "C:\\Users\\lisiq\\Anaconda2\\lib\\site-packages\\ipykernel_launcher.py:37: SettingWithCopyWarning: \n",
      "A value is trying to be set on a copy of a slice from a DataFrame.\n",
      "Try using .loc[row_indexer,col_indexer] = value instead\n",
      "\n",
      "See the caveats in the documentation: http://pandas.pydata.org/pandas-docs/stable/indexing.html#indexing-view-versus-copy\n"
     ]
    }
   ],
   "source": [
    "mins_to_hours_cols = ['tt_da', 'tt_sr', 'tt_walk', 'tt_bike', \n",
    "                     'tt_wt', 'accTime_wt', 'egrTime_wt',\n",
    "                     'iWait_wt', 'xWait_wt', 'tt_dt', \n",
    "                     'accTime_dt','egrTime_dt', 'iWait_dt', \n",
    "                     'xWait_dt']\n",
    "\n",
    "for col in mins_to_hours_cols:\n",
    "    df[col+\"_hrs\"] = df[col]/60\n",
    "\n",
    "df[\"travel_time_access_time_hrs_dt\"] = df[\"tt_dt_hrs\"] + df[\"accTime_dt_hrs\"]\n",
    "df[\"travel_time_access_time_hrs_wt\"] = df[\"tt_wt_hrs\"] + df[\"accTime_wt_hrs\"]\n",
    "\n",
    "df[\"access_egress_hrs_dt\"] = df[\"accTime_dt_hrs\"] + df[\"egrTime_dt_hrs\"]\n",
    "df[\"access_egress_hrs_wt\"] = df[\"accTime_wt_hrs\"] + df[\"egrTime_wt_hrs\"]\n",
    "\n",
    "df[\"initial_transfer_wait_hrs_dt\"] = df[\"iWait_dt_hrs\"] + df[\"xWait_dt_hrs\"]\n",
    "df[\"initial_transfer_wait_hrs_wt\"] = df[\"iWait_wt_hrs\"] + df[\"xWait_wt_hrs\"]\n",
    "\n",
    "# creating non-linear transformations for the cost variable\n",
    "cutOff1 = 2\n",
    "cutOff2 = 7\n",
    "\n",
    "df[\"cost_cat_one_da\"] = (df['cost_da']<=cutOff1)*df['cost_da'] + (df['cost_da'] > cutOff1)*cutOff1\n",
    "df[\"cost_cat_two_da\"] = (df['cost_da'] > cutOff1)*(df['cost_da'] <= cutOff2)*(df['cost_da'] - cutOff1) + (df['cost_da'] > cutOff2)* (cutOff2 - cutOff1)\n",
    "df[\"cost_cat_three_da\"] = (df['cost_da'] > cutOff2)*(df['cost_da'] - cutOff2)\n",
    "\n",
    "df[\"cost_cat_one_sr\"] = (df['cost_sr']<=cutOff1)*df['cost_sr'] + (df['cost_sr'] > cutOff1)*cutOff1\n",
    "df[\"cost_cat_two_sr\"] = (df['cost_sr'] > cutOff1)*(df['cost_sr'] <= cutOff2)*(df['cost_sr'] - cutOff1) + (df['cost_sr'] > cutOff2)* (cutOff2 - cutOff1)\n",
    "df[\"cost_cat_three_sr\"] = (df['cost_sr'] > cutOff2)*(df['cost_sr'] - cutOff2)\n",
    "\n",
    "df[\"cost_cat_one_dt\"] = (df['cost_dt']<=cutOff1)*df['cost_dt'] + (df['cost_dt'] > cutOff1)*cutOff1\n",
    "df[\"cost_cat_two_dt\"] = (df['cost_dt'] > cutOff1)*(df['cost_dt'] <= cutOff2)*(df['cost_dt'] - cutOff1) + (df['cost_dt'] > cutOff2)* (cutOff2 - cutOff1)\n",
    "df[\"cost_cat_three_dt\"] = (df['cost_dt'] > cutOff2)*(df['cost_dt'] - cutOff2)\n",
    "\n",
    "df[\"cost_cat_one_wt\"] = (df['cost_wt']<=cutOff1)*df['cost_wt'] + (df['cost_wt'] > cutOff1)*cutOff1\n",
    "df[\"cost_cat_two_wt\"] = (df['cost_wt'] > cutOff1)*(df['cost_wt'] <= cutOff2)*(df['cost_wt'] - cutOff1) + (df['cost_wt'] > cutOff2)* (cutOff2 - cutOff1)\n",
    "df[\"cost_cat_three_wt\"] = (df['cost_wt'] > cutOff2)*(df['cost_wt'] - cutOff2)\n"
   ]
  },
  {
   "cell_type": "code",
   "execution_count": 16,
   "metadata": {
    "collapsed": true,
    "scrolled": true
   },
   "outputs": [],
   "source": [
    "all_cols = pd.DataFrame(df.columns,columns=[\"col_name\"])"
   ]
  },
  {
   "cell_type": "code",
   "execution_count": 17,
   "metadata": {
    "collapsed": true
   },
   "outputs": [],
   "source": [
    "cols = list(df.columns.values)\n",
    "cols_to_include = (cols[45:] + [\"egrTime_wt_hrs\",\"egrTime_dt_hrs\"]+\n",
    "                   cols[23:29] + cols[31:36] + [\"tt_dt_hrs\"] + [\"choice\"])\n",
    "\n",
    "new_df = df[cols_to_include]"
   ]
  },
  {
   "cell_type": "markdown",
   "metadata": {},
   "source": [
    "### use sklearn to split the data into a training and testing sets"
   ]
  },
  {
   "cell_type": "code",
   "execution_count": 18,
   "metadata": {
    "collapsed": true
   },
   "outputs": [],
   "source": [
    "from sklearn import model_selection\n",
    "\n",
    "X = new_df.drop([\"choice\"],axis=1)\n",
    "y = new_df[\"choice\"]\n",
    "X_train, X_test, y_train, y_test = model_selection.train_test_split(X, y, \n",
    "                                                                    test_size=0.2, \n",
    "                                                                    shuffle = False)"
   ]
  },
  {
   "cell_type": "markdown",
   "metadata": {},
   "source": [
    "## Training and testing a KNN algorithm"
   ]
  },
  {
   "cell_type": "code",
   "execution_count": null,
   "metadata": {
    "collapsed": true
   },
   "outputs": [],
   "source": [
    "from sklearn import neighbors"
   ]
  },
  {
   "cell_type": "markdown",
   "metadata": {},
   "source": [
    "### plot graph of accuracy vs. number of neighors for train dataset"
   ]
  },
  {
   "cell_type": "code",
   "execution_count": 44,
   "metadata": {},
   "outputs": [
    {
     "name": "stdout",
     "output_type": "stream",
     "text": [
      "0.767845980748\n",
      "0.741842730341\n",
      "0.740092511564\n",
      "0.72259032379\n",
      "0.722965370671\n",
      "0.710088761095\n",
      "0.708713589199\n",
      "0.701462682835\n",
      "0.700087510939\n",
      "0.695086885861\n",
      "0.694086760845\n",
      "0.688836104513\n",
      "0.688461057632\n",
      "0.685335666958\n",
      "0.681335166896\n",
      "0.680710088761\n",
      "0.680460057507\n",
      "0.679209901238\n",
      "0.679584948119\n",
      "0.677334666833\n",
      "0.677959744968\n",
      "0.675334416802\n",
      "0.672709088636\n",
      "0.672334041755\n",
      "0.672084010501\n",
      "0.669208651081\n"
     ]
    },
    {
     "data": {
      "text/plain": [
       "<matplotlib.legend.Legend at 0x1574f898>"
      ]
     },
     "execution_count": 44,
     "metadata": {},
     "output_type": "execute_result"
    },
    {
     "data": {
      "image/png": "[encoded data removed]",
      "text/plain": [
       "<matplotlib.figure.Figure at 0x11a7c0f0>"
      ]
     },
     "metadata": {},
     "output_type": "display_data"
    }
   ],
   "source": [
    "acc_train=[]\n",
    "import matplotlib.pyplot as plt\n",
    "from matplotlib.pyplot import figure\n",
    "max=[5,6,7,8,9,10,11,12,13,14,15,16,17,18,19,20,21,22,23,24,25,26,27,28,29,30]\n",
    "for i in max:\n",
    "    KNN_classifier = neighbors.KNeighborsClassifier(n_neighbors=i)\n",
    "    KNN_classifier.fit(X=X_train,y=y_train)\n",
    "    KNN_predictions= KNN_classifier.predict(X_train)\n",
    "    accscore_train=sum(KNN_predictions == y_train)/float(len(KNN_predictions))\n",
    "    acc_train.append(accscore_train)\n",
    "    print(accscore_train)\n",
    "fig = figure()\n",
    "ax1 = fig.add_subplot(111)\n",
    "line1 = ax1.plot(max,acc_train,'-b',label='Accuracy of train data')\n",
    "plt.ylabel=(\"Accuracy of train data\")\n",
    "plt.xlabel=(\"Number of neighbors\")\n",
    "plt.legend()"
   ]
  },
  {
   "cell_type": "markdown",
   "metadata": {},
   "source": [
    "### plot graph of accuracy vs. number of neighors for test dataset"
   ]
  },
  {
   "cell_type": "code",
   "execution_count": 48,
   "metadata": {},
   "outputs": [
    {
     "name": "stdout",
     "output_type": "stream",
     "text": [
      "0.6415\n",
      "0.6475\n",
      "0.647\n",
      "0.657\n",
      "0.6575\n",
      "0.66\n",
      "0.656\n",
      "0.664\n",
      "0.661\n",
      "0.6645\n",
      "0.6635\n",
      "0.666\n",
      "0.663\n",
      "0.6695\n",
      "0.6695\n",
      "0.6715\n",
      "0.673\n",
      "0.673\n",
      "0.672\n",
      "0.6725\n",
      "0.6765\n",
      "0.672\n",
      "0.6755\n",
      "0.673\n",
      "0.6765\n",
      "0.679\n"
     ]
    },
    {
     "data": {
      "text/plain": [
       "<matplotlib.legend.Legend at 0x11d52940>"
      ]
     },
     "execution_count": 48,
     "metadata": {},
     "output_type": "execute_result"
    },
    {
     "data": {
      "image/png": "[encoded data removed]",
      "text/plain": [
       "<matplotlib.figure.Figure at 0x16cef208>"
      ]
     },
     "metadata": {},
     "output_type": "display_data"
    }
   ],
   "source": [
    "acc_test=[]\n",
    "import matplotlib.pyplot as plt\n",
    "from matplotlib.pyplot import figure\n",
    "for i in max:\n",
    "    KNN_classifier = neighbors.KNeighborsClassifier(n_neighbors=i)\n",
    "    KNN_classifier.fit(X=X_train,y=y_train)\n",
    "    KNN_predictions= KNN_classifier.predict(X_test)\n",
    "    accscore_test=sum(KNN_predictions == y_test)/float(len(KNN_predictions))\n",
    "    acc_test.append(accscore_test)\n",
    "    print(accscore_test)\n",
    "fig = figure()\n",
    "ax2 = fig.add_subplot(111)\n",
    "line1 = ax2.plot(max,acc_test,'-g',label='Accuracy of test data')\n",
    "plt.ylabel=(\"Accuracy of test data\")\n",
    "plt.xlabel=(\"Number of neighbors\")\n",
    "plt.legend()"
   ]
  },
  {
   "cell_type": "markdown",
   "metadata": {},
   "source": [
    "# Train and test a decision tree classifier"
   ]
  },
  {
   "cell_type": "code",
   "execution_count": 50,
   "metadata": {
    "collapsed": true
   },
   "outputs": [],
   "source": [
    "from sklearn import tree\n",
    "from sklearn.tree import DecisionTreeClassifier"
   ]
  },
  {
   "cell_type": "markdown",
   "metadata": {},
   "source": [
    "### plot graph of accuracy vs. max_depth for train dataset"
   ]
  },
  {
   "cell_type": "code",
   "execution_count": 59,
   "metadata": {},
   "outputs": [
    {
     "name": "stdout",
     "output_type": "stream",
     "text": [
      "0.650956369546\n",
      "0.651956494562\n",
      "0.653456682085\n",
      "0.668083510439\n",
      "0.674834354294\n",
      "0.683710463808\n",
      "0.693586698337\n",
      "0.712839104888\n",
      "0.735966995874\n",
      "0.758219777472\n",
      "0.780722590324\n",
      "0.801600200025\n",
      "0.826478309789\n",
      "0.845230653832\n",
      "0.859107388424\n"
     ]
    },
    {
     "data": {
      "text/plain": [
       "<matplotlib.legend.Legend at 0x170b0320>"
      ]
     },
     "execution_count": 59,
     "metadata": {},
     "output_type": "execute_result"
    },
    {
     "data": {
      "image/png": "[encoded data removed]",
      "text/plain": [
       "<matplotlib.figure.Figure at 0x11d2c400>"
      ]
     },
     "metadata": {},
     "output_type": "display_data"
    }
   ],
   "source": [
    "acc_train1=[]\n",
    "import matplotlib.pyplot as plt\n",
    "from matplotlib.pyplot import figure\n",
    "max1=[1,2,3,4,5,6,7,8,9,10,11,12,13,14,15]\n",
    "for i in max1:\n",
    "    Decision_Tree_Clasifier=tree.DecisionTreeClassifier(max_depth=i)\n",
    "    Decision_Tree_Clasifier.fit(X=X_train,y=y_train)\n",
    "    Decision_Tree_predictions = Decision_Tree_Clasifier.predict(X_train)\n",
    "    accscore_train=sum(Decision_Tree_predictions == y_train)/float(len(Decision_Tree_predictions))\n",
    "    acc_train1.append(accscore_train)\n",
    "    print(accscore_train)\n",
    "fig = figure()\n",
    "ax3 = fig.add_subplot(111)\n",
    "line3 = ax3.plot(max1,acc_train1,'-b',label='Accuracy of train data')\n",
    "plt.ylabel=(\"Accuracy of train data\")\n",
    "plt.xlabel=(\"Max Depth\")\n",
    "plt.legend()"
   ]
  },
  {
   "cell_type": "markdown",
   "metadata": {},
   "source": [
    "### plot graph of accuracy vs. Max depth for test dataset"
   ]
  },
  {
   "cell_type": "code",
   "execution_count": 66,
   "metadata": {},
   "outputs": [
    {
     "name": "stdout",
     "output_type": "stream",
     "text": [
      "0.662\n",
      "0.6635\n",
      "0.664\n",
      "0.6795\n",
      "0.6855\n",
      "0.6845\n",
      "0.6855\n",
      "0.6795\n",
      "0.6825\n",
      "0.6735\n",
      "0.673\n",
      "0.6725\n",
      "0.664\n",
      "0.663\n",
      "0.6575\n"
     ]
    }
   ],
   "source": [
    "acc_test1=[]\n",
    "import matplotlib.pyplot as plt\n",
    "from matplotlib.pyplot import figure\n",
    "max1=[1,2,3,4,5,6,7,8,9,10,11,12,13,14,15]\n",
    "for i in max1:\n",
    "    Decision_Tree_Clasifier=tree.DecisionTreeClassifier(max_depth=i)\n",
    "    Decision_Tree_Clasifier.fit(X=X_train,y=y_train)\n",
    "    Decision_Tree_predictions = Decision_Tree_Clasifier.predict(X_test)\n",
    "    accscore_test=sum(Decision_Tree_predictions == y_test)/float(len(Decision_Tree_predictions))\n",
    "    acc_test1.append(accscore_test)\n",
    "    print(accscore_test)\n"
   ]
  },
  {
   "cell_type": "code",
   "execution_count": 65,
   "metadata": {},
   "outputs": [
    {
     "data": {
      "image/png": "[encoded data removed]",
      "text/plain": [
       "<matplotlib.figure.Figure at 0x1703df28>"
      ]
     },
     "metadata": {},
     "output_type": "display_data"
    }
   ],
   "source": [
    "fig = figure()\n",
    "ax4 = fig.add_subplot(111)\n",
    "line4 = ax4.plot(max1,acc_test1,'-b',label='Accuracy of test data')\n",
    "plt.ylabel=(\"Accuracy of test data\")\n",
    "plt.xlabel=(\"Max Depth\")\n",
    "plt.legend()\n",
    "plt.show()"
   ]
  },
  {
   "cell_type": "markdown",
   "metadata": {},
   "source": [
    "# Train and test a Random forest classifier"
   ]
  },
  {
   "cell_type": "code",
   "execution_count": 68,
   "metadata": {
    "collapsed": true
   },
   "outputs": [],
   "source": [
    "from sklearn import ensemble\n",
    "from sklearn.ensemble import RandomForestClassifier"
   ]
  },
  {
   "cell_type": "markdown",
   "metadata": {},
   "source": [
    "### plot graph of accuracy vs. number of trees for train dataset"
   ]
  },
  {
   "cell_type": "code",
   "execution_count": 79,
   "metadata": {},
   "outputs": [
    {
     "name": "stdout",
     "output_type": "stream",
     "text": [
      "0.63970496312\n",
      "0.664708088511\n",
      "0.647205900738\n",
      "0.647955994499\n",
      "0.641455181898\n",
      "0.647205900738\n",
      "0.648206025753\n",
      "0.644080510064\n",
      "0.642455306913\n",
      "0.643330416302\n",
      "0.649831228904\n",
      "0.640455056882\n",
      "0.644455556945\n",
      "0.642455306913\n",
      "0.642330291286\n"
     ]
    }
   ],
   "source": [
    "acc_train2=[]\n",
    "import matplotlib.pyplot as plt\n",
    "from matplotlib.pyplot import figure\n",
    "max2=[1,2,3,4,5,6,7,8,9,10,11,12,13,14,15]\n",
    "for i in max2:\n",
    "    Random_Forest_Clasifier=ensemble.RandomForestClassifier(max_depth=5, n_estimators=i, max_features=1)\n",
    "    Random_Forest_Clasifier.fit(X=X_train,y=y_train)\n",
    "    Random_Forest_predictions = Random_Forest_Clasifier.predict(X_train)\n",
    "    accscore_train=sum(Random_Forest_predictions == y_train)/float(len(Random_Forest_predictions))\n",
    "    acc_train2.append(accscore_train)\n",
    "    print(accscore_train)\n",
    "\n"
   ]
  },
  {
   "cell_type": "code",
   "execution_count": 80,
   "metadata": {},
   "outputs": [
    {
     "data": {
      "text/plain": [
       "<matplotlib.legend.Legend at 0x17e3a4a8>"
      ]
     },
     "execution_count": 80,
     "metadata": {},
     "output_type": "execute_result"
    },
    {
     "data": {
      "image/png": "[encoded data removed]",
      "text/plain": [
       "<matplotlib.figure.Figure at 0x18035518>"
      ]
     },
     "metadata": {},
     "output_type": "display_data"
    }
   ],
   "source": [
    "fig = figure()\n",
    "ax5 = fig.add_subplot(111)\n",
    "line5 = ax5.plot(max2,acc_train2,'-b',label='Accuracy of train data')\n",
    "plt.ylabel=(\"Accuracy of train data\")\n",
    "plt.xlabel=(\"Number of Trees\")\n",
    "plt.legend()"
   ]
  },
  {
   "cell_type": "markdown",
   "metadata": {},
   "source": [
    "### plot graph of accuracy vs. Number of trees for test dataset"
   ]
  },
  {
   "cell_type": "code",
   "execution_count": 81,
   "metadata": {},
   "outputs": [
    {
     "name": "stdout",
     "output_type": "stream",
     "text": [
      "0.6515\n",
      "0.6665\n",
      "0.657\n",
      "0.659\n",
      "0.6665\n",
      "0.6535\n",
      "0.655\n",
      "0.66\n",
      "0.658\n",
      "0.6535\n",
      "0.6535\n",
      "0.653\n",
      "0.655\n",
      "0.6525\n",
      "0.6545\n"
     ]
    }
   ],
   "source": [
    "acc_test2=[]\n",
    "import matplotlib.pyplot as plt\n",
    "from matplotlib.pyplot import figure\n",
    "for i in max2:\n",
    "    Random_Forest_Clasifier=ensemble.RandomForestClassifier(max_depth=5, n_estimators=i, max_features=1)\n",
    "    Random_Forest_Clasifier.fit(X=X_train,y=y_train)\n",
    "    Random_Forest_predictions = Random_Forest_Clasifier.predict(X_test)\n",
    "    accscore_test=sum(Random_Forest_predictions == y_test)/float(len(Random_Forest_predictions))\n",
    "    acc_test2.append(accscore_test)\n",
    "    print(accscore_test)\n",
    "\n"
   ]
  },
  {
   "cell_type": "code",
   "execution_count": 83,
   "metadata": {},
   "outputs": [
    {
     "data": {
      "text/plain": [
       "<matplotlib.legend.Legend at 0x17c67940>"
      ]
     },
     "execution_count": 83,
     "metadata": {},
     "output_type": "execute_result"
    },
    {
     "data": {
      "image/png": "[encoded data removed]",
      "text/plain": [
       "<matplotlib.figure.Figure at 0x17c67710>"
      ]
     },
     "metadata": {},
     "output_type": "display_data"
    }
   ],
   "source": [
    "fig = figure()\n",
    "ax5 = fig.add_subplot(111)\n",
    "line5 = ax5.plot(max2,acc_train2,'-b',label='Accuracy of test data')\n",
    "plt.ylabel=(\"Accuracy of test data\")\n",
    "plt.xlabel=(\"Nmuber of Trees\")\n",
    "plt.legend()"
   ]
  },
  {
   "cell_type": "markdown",
   "metadata": {},
   "source": [
    "# Train and test a SVM classifier"
   ]
  },
  {
   "cell_type": "code",
   "execution_count": 19,
   "metadata": {
    "collapsed": true
   },
   "outputs": [],
   "source": [
    "from sklearn import svm\n",
    "from sklearn.svm import SVC"
   ]
  },
  {
   "cell_type": "markdown",
   "metadata": {},
   "source": [
    "### plot graph of accuracy vs. Cost Penalty for train dataset"
   ]
  },
  {
   "cell_type": "code",
   "execution_count": 35,
   "metadata": {},
   "outputs": [
    {
     "name": "stdout",
     "output_type": "stream",
     "text": [
      "0.707463432929\n",
      "0.728091011376\n",
      "0.7295911989\n",
      "0.732591573947\n",
      "0.737217152144\n",
      "0.737342167771\n"
     ]
    }
   ],
   "source": [
    "acc_train3=[]\n",
    "import matplotlib.pyplot as plt\n",
    "from matplotlib.pyplot import figure\n",
    "max3=[0.1,0.5,0.7,1,10,50]\n",
    "for i in max3:\n",
    "    SVM_Clasifier=svm.SVC(kernel=\"linear\", C=i)\n",
    "    SVM_Clasifier.fit(X=X_train,y=y_train)\n",
    "    SVM_predictions = SVM_Clasifier.predict(X_train)\n",
    "    accscore_train=sum(SVM_predictions == y_train)/float(len(SVM_predictions))\n",
    "    acc_train3.append(accscore_train)\n",
    "    print(accscore_train)\n"
   ]
  },
  {
   "cell_type": "code",
   "execution_count": 37,
   "metadata": {},
   "outputs": [
    {
     "data": {
      "text/plain": [
       "<matplotlib.legend.Legend at 0xf8ed390>"
      ]
     },
     "execution_count": 37,
     "metadata": {},
     "output_type": "execute_result"
    },
    {
     "data": {
      "image/png": "[encoded data removed]",
      "text/plain": [
       "<matplotlib.figure.Figure at 0x11ea9b38>"
      ]
     },
     "metadata": {},
     "output_type": "display_data"
    }
   ],
   "source": [
    "fig = figure()\n",
    "ax6 = fig.add_subplot(111)\n",
    "line6 = ax6.plot(max3,acc_train3,'-b',label='Accuracy of train data')\n",
    "plt.ylabel=(\"Accuracy of train data\")\n",
    "plt.xlabel=(\"Cost Penalty\")\n",
    "plt.legend()"
   ]
  },
  {
   "cell_type": "markdown",
   "metadata": {},
   "source": [
    "### plot graph of accuracy vs. cost penalty for test dataset"
   ]
  },
  {
   "cell_type": "code",
   "execution_count": 38,
   "metadata": {},
   "outputs": [
    {
     "name": "stdout",
     "output_type": "stream",
     "text": [
      "0.713\n",
      "0.743\n",
      "0.7465\n",
      "0.7485\n",
      "0.7515\n",
      "0.749\n"
     ]
    }
   ],
   "source": [
    "acc_test3=[]\n",
    "import matplotlib.pyplot as plt\n",
    "from matplotlib.pyplot import figure\n",
    "for i in max3:\n",
    "    SVM_Clasifier=svm.SVC(kernel=\"linear\", C=i)\n",
    "    SVM_Clasifier.fit(X=X_train,y=y_train)\n",
    "    SVM_predictions = SVM_Clasifier.predict(X_test)\n",
    "    accscore_test=sum(SVM_predictions == y_test)/float(len(SVM_predictions))\n",
    "    acc_test3.append(accscore_test)\n",
    "    print(accscore_test)"
   ]
  },
  {
   "cell_type": "code",
   "execution_count": 39,
   "metadata": {},
   "outputs": [
    {
     "data": {
      "text/plain": [
       "<matplotlib.legend.Legend at 0xf8780b8>"
      ]
     },
     "execution_count": 39,
     "metadata": {},
     "output_type": "execute_result"
    },
    {
     "data": {
      "image/png": "[encoded data removed]",
      "text/plain": [
       "<matplotlib.figure.Figure at 0x124bd518>"
      ]
     },
     "metadata": {},
     "output_type": "display_data"
    }
   ],
   "source": [
    "fig = figure()\n",
    "ax7 = fig.add_subplot(111)\n",
    "line7 = ax7.plot(max3,acc_test3,'-b',label='Accuracy of test data')\n",
    "plt.ylabel=(\"Accuracy of test data\")\n",
    "plt.xlabel=(\"Cost Penalty\")\n",
    "plt.legend()"
   ]
  },
  {
   "cell_type": "markdown",
   "metadata": {},
   "source": [
    "# Create table for all the algorithms you used and their highest accuracy (including your MNL model)"
   ]
  },
  {
   "cell_type": "code",
   "execution_count": 12,
   "metadata": {},
   "outputs": [
    {
     "name": "stdout",
     "output_type": "stream",
     "text": [
      "Algorithm:MNL             Highest Accuracy:0.70    \n",
      "Algorithm:KNN             Highest Accuracy:0.68    \n",
      "Algorithm:Decision Tree   Highest Accuracy:0.69    \n",
      "Algorithm:Random Forest   Highest Accuracy:0.67    \n"
     ]
    }
   ],
   "source": [
    "summary=[[\"MNL\",0.696],[\"KNN\",0.679],[\"Decision Tree\",0.6855],[\"Random Forest\",0.6665],[\"SVM\",0.7515]]\n",
    "print (\"Algorithm:%-15s Highest Accuracy:%-8.2f\"%(summary[0][0],summary[0][1]))\n",
    "print (\"Algorithm:%-15s Highest Accuracy:%-8.2f\"%(summary[1][0],summary[1][1]))\n",
    "print (\"Algorithm:%-15s Highest Accuracy:%-8.2f\"%(summary[2][0],summary[2][1]))\n",
    "print (\"Algorithm:%-15s Highest Accuracy:%-8.2f\"%(summary[3][0],summary[3][1]))"
   ]
  },
  {
   "cell_type": "code",
   "execution_count": null,
   "metadata": {
    "collapsed": true
   },
   "outputs": [],
   "source": []
  }
 ],
 "metadata": {
  "kernelspec": {
   "display_name": "Python 2",
   "language": "python",
   "name": "python2"
  },
  "language_info": {
   "codemirror_mode": {
    "name": "ipython",
    "version": 2
   },
   "file_extension": ".py",
   "mimetype": "text/x-python",
   "name": "python",
   "nbconvert_exporter": "python",
   "pygments_lexer": "ipython2",
   "version": "2.7.14"
  }
 },
 "nbformat": 4,
 "nbformat_minor": 2
}
